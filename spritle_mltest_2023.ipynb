{
  "nbformat": 4,
  "nbformat_minor": 0,
  "metadata": {
    "colab": {
      "provenance": []
    },
    "kernelspec": {
      "name": "python3",
      "display_name": "Python 3"
    },
    "language_info": {
      "name": "python"
    }
  },
  "cells": [
    {
      "cell_type": "code",
      "execution_count": null,
      "metadata": {
        "id": "Iaa-eaCfaze1"
      },
      "outputs": [],
      "source": [
        "import tensorflow as tf\n",
        "import numpy as np\n",
        "import random"
      ]
    },
    {
      "cell_type": "markdown",
      "source": [
        "1. Create two custom layers in TensorFlow that add two inputs and multiply two inputs\n",
        "respectively [or any other mathematical operations of your choice(linear or\n",
        "nonlinear)] Add layer names and other things that are present in other common\n",
        "layers in TensorFlow. (5pts)\n"
      ],
      "metadata": {
        "id": "R3j3ixg5bQUB"
      }
    },
    {
      "cell_type": "code",
      "source": [
        "#AdditionLayer\n",
        "\n",
        "class AdditionLayer(tf.keras.layers.Layer):\n",
        "    def __init__(self, **kwargs):\n",
        "        super(AdditionLayer, self).__init__(**kwargs)\n",
        "\n",
        "    def call(self, inputs):\n",
        "        return tf.reduce_sum(inputs, axis=-1, keepdims=True)\n",
        "\n",
        "    def get_config(self):\n",
        "        config = super(AdditionLayer, self).get_config()\n",
        "        return config\n",
        "\n"
      ],
      "metadata": {
        "id": "n0ujgoUaa_AU"
      },
      "execution_count": null,
      "outputs": []
    },
    {
      "cell_type": "code",
      "source": [
        "#MultiplicationLayer\n",
        "\n",
        "class MultiplicationLayer(tf.keras.layers.Layer):\n",
        "    def __init__(self, **kwargs):\n",
        "        super(MultiplicationLayer, self).__init__(**kwargs)\n",
        "\n",
        "    def call(self, inputs):\n",
        "        return tf.reduce_prod(inputs, axis=-1, keepdims=True)\n",
        "\n",
        "    def get_config(self):\n",
        "        config = super(MultiplicationLayer, self).get_config()\n",
        "        return config"
      ],
      "metadata": {
        "id": "ApcwCXWVblI2"
      },
      "execution_count": null,
      "outputs": []
    },
    {
      "cell_type": "code",
      "source": [
        "import tensorflow as tf\n",
        "\n",
        "class AddLayer(tf.keras.layers.Layer):\n",
        "    def __init__(self, **kwargs):\n",
        "        super(AddLayer, self).__init__(**kwargs)\n",
        "\n",
        "    def call(self, inputs):\n",
        "        return tf.reduce_sum(inputs, axis=-1, keepdims=True)\n",
        "\n",
        "class MultiplyLayer(tf.keras.layers.Layer):\n",
        "    def __init__(self, **kwargs):\n",
        "        super(MultiplyLayer, self).__init__(**kwargs)\n",
        "\n",
        "    def call(self, inputs):\n",
        "        return tf.reduce_prod(inputs, axis=-1, keepdims=True)\n",
        "\n",
        "# Example usage\n",
        "input_data = tf.constant([[1.0, 2.0, 3.0], [4.0, 5.0, 6.0]])\n",
        "add_layer = AddLayer()\n",
        "multiply_layer = MultiplyLayer()\n",
        "\n",
        "add_result = add_layer(input_data)\n",
        "multiply_result = multiply_layer(input_data)\n",
        "\n",
        "print(\"Input data:\", input_data.numpy())\n",
        "print(\"Addition result:\", add_result.numpy())\n",
        "print(\"Multiplication result:\", multiply_result.numpy())\n"
      ],
      "metadata": {
        "colab": {
          "base_uri": "https://localhost:8080/"
        },
        "id": "bwjHXfpsbmgS",
        "outputId": "8278caa5-6adf-4658-f4ae-2b933d27fa7c"
      },
      "execution_count": null,
      "outputs": [
        {
          "output_type": "stream",
          "name": "stdout",
          "text": [
            "Input data: [[1. 2. 3.]\n",
            " [4. 5. 6.]]\n",
            "Addition result: [[ 6.]\n",
            " [15.]]\n",
            "Multiplication result: [[  6.]\n",
            " [120.]]\n"
          ]
        }
      ]
    },
    {
      "cell_type": "code",
      "source": [
        "\n",
        "class AddLayer(tf.keras.layers.Layer):\n",
        "    def __init__(self, name=None, **kwargs):\n",
        "        super(AddLayer, self).__init__(name=name, **kwargs)\n",
        "\n",
        "    def call(self, inputs):\n",
        "        return tf.reduce_sum(inputs, axis=-1, keepdims=True)\n",
        "\n",
        "class MultiplyLayer(tf.keras.layers.Layer):\n",
        "    def __init__(self, name=None, **kwargs):\n",
        "        super(MultiplyLayer, self).__init__(name=name, **kwargs)\n",
        "\n",
        "    def call(self, inputs):\n",
        "        return tf.reduce_prod(inputs, axis=-1, keepdims=True)\n",
        "\n",
        "# Example usage\n",
        "input_data = tf.constant([[1.0, 2.0, 3.0], [4.0, 5.0, 6.0]])\n",
        "add_layer = AddLayer(name=\"custom_add_layer\")\n",
        "multiply_layer = MultiplyLayer(name=\"custom_multiply_layer\")\n",
        "\n",
        "add_result = add_layer(input_data)\n",
        "multiply_result = multiply_layer(input_data)\n",
        "\n",
        "print(\"Input data:\", input_data.numpy())\n",
        "print(\"Addition result:\", add_result.numpy())\n",
        "print(\"Multiplication result:\", multiply_result.numpy())\n"
      ],
      "metadata": {
        "colab": {
          "base_uri": "https://localhost:8080/"
        },
        "id": "F0GLkYIdko-3",
        "outputId": "d221bd93-3d12-4a19-9be6-b04be45f243a"
      },
      "execution_count": null,
      "outputs": [
        {
          "output_type": "stream",
          "name": "stdout",
          "text": [
            "Input data: [[1. 2. 3.]\n",
            " [4. 5. 6.]]\n",
            "Addition result: [[ 6.]\n",
            " [15.]]\n",
            "Multiplication result: [[  6.]\n",
            " [120.]]\n"
          ]
        }
      ]
    },
    {
      "cell_type": "markdown",
      "source": [
        "2. Combine these two layers in a third custom layer. Concatenate them or multiply\n",
        "them etc. (5pts)"
      ],
      "metadata": {
        "id": "tXtaNzc0lV_h"
      }
    },
    {
      "cell_type": "code",
      "source": [
        "class CombineLayers(tf.keras.layers.Layer):\n",
        "    def __init__(self, operation=\"concatenate\", **kwargs):\n",
        "        super(CombineLayers, self).__init__(**kwargs)\n",
        "        self.operation = operation\n",
        "\n",
        "    def call(self, inputs):\n",
        "        if self.operation == \"concatenate\":\n",
        "            add_result, multiply_result = inputs\n",
        "            combined_result = tf.concat([add_result, multiply_result], axis=-1)\n",
        "        elif self.operation == \"multiply\":\n",
        "            add_result, multiply_result = inputs\n",
        "            combined_result = add_result * multiply_result\n",
        "        else:\n",
        "            raise ValueError(\"Invalid operation\")\n",
        "\n",
        "        return combined_result\n",
        "\n",
        "# Example usage\n",
        "input_data = tf.constant([[1.0, 2.0, 3.0], [4.0, 5.0, 6.0]])\n",
        "add_layer = AddLayer()\n",
        "multiply_layer = MultiplyLayer()\n",
        "combine_layer = CombineLayers(operation=\"concatenate\")\n",
        "\n",
        "add_result = add_layer(input_data)\n",
        "multiply_result = multiply_layer(input_data)\n",
        "combined_result = combine_layer([add_result, multiply_result])\n",
        "\n",
        "print(\"Input data:\", input_data.numpy())\n",
        "print(\"Addition result:\", add_result.numpy())\n",
        "print(\"Multiplication result:\", multiply_result.numpy())\n",
        "print(\"Combined result (concatenate):\", combined_result.numpy())\n"
      ],
      "metadata": {
        "colab": {
          "base_uri": "https://localhost:8080/"
        },
        "id": "M8SDNi79lNAr",
        "outputId": "55ebcc3d-0179-4ca3-843b-cee6251b71ce"
      },
      "execution_count": null,
      "outputs": [
        {
          "output_type": "stream",
          "name": "stdout",
          "text": [
            "Input data: [[1. 2. 3.]\n",
            " [4. 5. 6.]]\n",
            "Addition result: [[ 6.]\n",
            " [15.]]\n",
            "Multiplication result: [[  6.]\n",
            " [120.]]\n",
            "Combined result (concatenate): [[  6.   6.]\n",
            " [ 15. 120.]]\n"
          ]
        }
      ]
    },
    {
      "cell_type": "markdown",
      "source": [
        "3. Create a model using these and observe how batch inference works (10 pts)"
      ],
      "metadata": {
        "id": "Bs7dXwg4-Byc"
      }
    },
    {
      "cell_type": "code",
      "source": [
        "input_shape = (None, 3)  # Batch size can vary, and each sample has 3 features\n",
        "inputs = tf.keras.layers.Input(shape=input_shape)\n",
        "add_layer = AddLayer(name=\"custom_add_layer\")(inputs)\n",
        "multiply_layer = MultiplyLayer(name=\"custom_multiply_layer\")(inputs)\n",
        "combined_layer = CombineLayers(operation=\"concatenate\")([add_layer, multiply_layer])\n",
        "\n",
        "#simple batch inference\n",
        "model = tf.keras.models.Model(inputs=inputs, outputs=combined_layer)\n",
        "\n",
        "# Generate random input data\n",
        "num_samples = 4\n",
        "random_input_data = tf.random.normal((num_samples,) + input_shape[1:])\n",
        "\n",
        "# Perform batch inference\n",
        "combined_result_batch = model(random_input_data)\n",
        "\n",
        "print(\"Random Input Data:\")\n",
        "print(random_input_data.numpy())\n",
        "print(\"\\nCombined Result (Batch Inference):\")\n",
        "print(combined_result_batch.numpy())"
      ],
      "metadata": {
        "colab": {
          "base_uri": "https://localhost:8080/"
        },
        "id": "8MCk_VtTmfZ9",
        "outputId": "4054a2d0-43a4-497f-f65a-d5cd45585812"
      },
      "execution_count": null,
      "outputs": [
        {
          "output_type": "stream",
          "name": "stdout",
          "text": [
            "Random Input Data:\n",
            "[[ 0.603917    0.43872657 -0.70467967]\n",
            " [ 0.425284    0.89819497 -0.23498227]\n",
            " [ 0.4471985  -1.1060203  -0.3660734 ]\n",
            " [-0.35611647 -1.0727587   1.6326913 ]]\n",
            "\n",
            "Combined Result (Batch Inference):\n",
            "[[ 0.33796388 -0.18670802]\n",
            " [ 1.0884967  -0.08976039]\n",
            " [-1.0248952   0.1810638 ]\n",
            " [ 0.20381606  0.6237322 ]]\n"
          ]
        }
      ]
    },
    {
      "cell_type": "markdown",
      "source": [
        "4. Use a predefined layer in Tensorflow to split an input/image into 4x4 = 16 tiles\n"
      ],
      "metadata": {
        "id": "o4b3dgSHsl0J"
      }
    },
    {
      "cell_type": "code",
      "source": [
        "# Load an example image (replace with your image loading code)\n",
        "image_path = '/content/cat.jpg'\n",
        "image = tf.image.decode_image(tf.io.read_file(image_path))\n",
        "\n",
        "# Parameters for splitting the image into tiles\n",
        "num_rows = 4\n",
        "num_cols = 4\n",
        "patch_height = image.shape[0] // num_rows\n",
        "patch_width = image.shape[1] // num_cols\n",
        "\n",
        "# Reshape the image to have a batch dimension\n",
        "image_batch = tf.expand_dims(image, axis=0)\n",
        "\n",
        "# Split the image into tiles using tf.image.extract_patches\n",
        "patches = tf.image.extract_patches(images=image_batch,\n",
        "                                   sizes=[1, patch_height, patch_width, 1],\n",
        "                                   strides=[1, patch_height, patch_width, 1],\n",
        "                                   rates=[1, 1, 1, 1],\n",
        "                                   padding='VALID')\n",
        "\n",
        "# Reshape patches to have the shape (num_patches, patch_height, patch_width, num_channels)\n",
        "\n",
        "num_patches = num_rows * num_cols\n",
        "patch_shape = [num_patches, patch_height, patch_width, image.shape[2]]\n",
        "patches_reshaped = tf.reshape(patches, patch_shape)\n",
        "\n",
        "# Display the shape of the extracted patches\n",
        "print(\"Shape of extracted patches:\", patches_reshaped.shape)\n"
      ],
      "metadata": {
        "colab": {
          "base_uri": "https://localhost:8080/"
        },
        "id": "MOTBX_Y6sxC2",
        "outputId": "a6b3b5d9-68f1-437d-8894-acedbf39422f"
      },
      "execution_count": null,
      "outputs": [
        {
          "output_type": "stream",
          "name": "stdout",
          "text": [
            "Shape of extracted patches: (16, 132, 274, 3)\n"
          ]
        }
      ]
    },
    {
      "cell_type": "markdown",
      "source": [
        "5. Write a graph data structure in python with random connections between nodes.\n",
        "(5pts)"
      ],
      "metadata": {
        "id": "g-rTgj10xdh9"
      }
    },
    {
      "cell_type": "code",
      "source": [
        "# Create nodes\n",
        "class GraphNode:\n",
        "    def __init__(self, name):\n",
        "        self.name = name\n",
        "        self.edges = []\n",
        "\n",
        "    def add_edge(self, edge):\n",
        "        self.edges.append(edge)\n",
        "\n",
        "    def __str__(self):\n",
        "        return self.name\n",
        "\n",
        "nodes = {\n",
        "    'A': GraphNode('A'),\n",
        "    'B': GraphNode('B'),\n",
        "    'C': GraphNode('C'),\n",
        "    'D': GraphNode('D'),\n",
        "    'E': GraphNode('E')\n",
        "}\n",
        "\n",
        "# Define connections between nodes\n",
        "nodes['A'].add_edge(nodes['B'])\n",
        "nodes['A'].add_edge(nodes['C'])\n",
        "nodes['A'].add_edge(nodes['D'])\n",
        "nodes['B'].add_edge(nodes['E'])\n",
        "nodes['C'].add_edge(nodes['E'])\n",
        "nodes['D'].add_edge(nodes['E'])\n",
        "nodes['E'].add_edge(nodes['A'])\n",
        "\n",
        "# Perform inference in node E using the custom model\n",
        "input_data = tf.constant([[random.randint(1, 100)]])\n",
        "\n",
        "add_layer = AddLayer()\n",
        "multiply_layer = MultiplyLayer()\n",
        "combine_layer = CombineLayers(operation=\"concatenate\")\n",
        "\n",
        "add_result = add_layer(input_data)\n",
        "multiply_result = multiply_layer(input_data)\n",
        "combined_result = combine_layer([add_result, multiply_result])\n",
        "\n",
        "# Compare the combined result using TensorFlow's comparison operations\n",
        "greater_than_200 = tf.greater(combined_result, 200)\n",
        "less_than_100 = tf.less(combined_result, 100)\n",
        "\n",
        "if tf.reduce_any(greater_than_200):\n",
        "    next_node = nodes['B']\n",
        "elif tf.reduce_any(less_than_100):\n",
        "    next_node = nodes['C']\n",
        "else:\n",
        "    next_node = nodes['D']\n",
        "\n",
        "print(\"Input data:\", input_data.numpy())\n",
        "print(\"Combined result:\", combined_result.numpy())\n",
        "print(\"Next node based on output:\", next_node)\n",
        "#I've updated the code to use TensorFlow's tf.greater and tf.less for comparison operations and tf.reduce_any to determine if any element in the tensor meets the condition. This should resolve the \"ValueError: The truth value of an array...\" issue."
      ],
      "metadata": {
        "colab": {
          "base_uri": "https://localhost:8080/"
        },
        "id": "y405nwTnw2NU",
        "outputId": "14f510b3-b8c0-45f5-92b4-750dfbfcc48c"
      },
      "execution_count": null,
      "outputs": [
        {
          "output_type": "stream",
          "name": "stdout",
          "text": [
            "Input data: [[30]]\n",
            "Combined result: [[30 30]]\n",
            "Next node based on output: C\n"
          ]
        }
      ]
    },
    {
      "cell_type": "code",
      "source": [
        "class GraphNode:\n",
        "    def __init__(self, name):\n",
        "        self.name = name\n",
        "        self.edges = []\n",
        "\n",
        "    def add_edge(self, edge):\n",
        "        self.edges.append(edge)\n",
        "\n",
        "    def __str__(self):\n",
        "        return self.name\n",
        "\n",
        "nodes = {\n",
        "    'A': GraphNode('A'),\n",
        "    'B': GraphNode('B'),\n",
        "    'C': GraphNode('C'),\n",
        "    'D': GraphNode('D'),\n",
        "    'E': GraphNode('E')\n",
        "}\n",
        "\n",
        "# Define connections between nodes\n",
        "nodes['A'].add_edge(nodes['B'])\n",
        "nodes['A'].add_edge(nodes['C'])\n",
        "nodes['A'].add_edge(nodes['D'])\n",
        "nodes['B'].add_edge(nodes['E'])\n",
        "nodes['C'].add_edge(nodes['E'])\n",
        "nodes['D'].add_edge(nodes['E'])\n",
        "nodes['E'].add_edge(nodes['A'])\n"
      ],
      "metadata": {
        "id": "eI2U2fpgx-ci"
      },
      "execution_count": null,
      "outputs": []
    },
    {
      "cell_type": "code",
      "source": [
        "# Print connections between nodes\n",
        "for node, graph_node in nodes.items():\n",
        "    edge_names = ', '.join([edge.name for edge in graph_node.edges])\n",
        "    print(f\"{node}: {edge_names}\")"
      ],
      "metadata": {
        "colab": {
          "base_uri": "https://localhost:8080/"
        },
        "id": "RPVEm-bJyDfh",
        "outputId": "43fa03f1-8751-4e0f-f185-f413a6cccebc"
      },
      "execution_count": null,
      "outputs": [
        {
          "output_type": "stream",
          "name": "stdout",
          "text": [
            "A: B, C, D\n",
            "B: E\n",
            "C: E\n",
            "D: E\n",
            "E: A\n"
          ]
        }
      ]
    },
    {
      "cell_type": "markdown",
      "source": [
        "6. Two-part question\n",
        "a. Do inference in one of the nodes and write any rules (>,<,==) to decide the\n",
        "next node based on the output (5 pts)"
      ],
      "metadata": {
        "id": "uE5z4HP1K3RC"
      }
    },
    {
      "cell_type": "code",
      "source": [
        "output_value = random.randint(1, 10)\n",
        "input_node = nodes['A']\n",
        "\n",
        "# Decide the next node based on the output value using rules\n",
        "if output_value > 5:\n",
        "    next_node = input_node.edges[0]\n",
        "elif output_value < 5:\n",
        "    next_node = input_node.edges[1]\n",
        "else:\n",
        "    next_node = input_node.edges[2]\n",
        "\n",
        "print(\"Output value:\", output_value)\n",
        "print(\"Input node:\", input_node)\n",
        "print(\"Next node based on output:\", next_node)"
      ],
      "metadata": {
        "colab": {
          "base_uri": "https://localhost:8080/"
        },
        "id": "CQshkMt3z4T2",
        "outputId": "fd32a86f-52f8-4e53-eb04-4886b6a5977b"
      },
      "execution_count": null,
      "outputs": [
        {
          "output_type": "stream",
          "name": "stdout",
          "text": [
            "Output value: 5\n",
            "Input node: A\n",
            "Next node based on output: D\n"
          ]
        }
      ]
    },
    {
      "cell_type": "markdown",
      "source": [
        "You can choose to use the custom model you have created in questions 1 or\n",
        "2 inside the node. The input can be a random input created using\n",
        "random.randint(1,100). You can use any error correction techniques\n",
        "we used before. (5pts)\n"
      ],
      "metadata": {
        "id": "judsULMhKxBB"
      }
    },
    {
      "cell_type": "code",
      "source": [
        "# Custom Layers\n",
        "class AddLayer(tf.keras.layers.Layer):\n",
        "    def __init__(self, name=None, **kwargs):\n",
        "        super(AddLayer, self).__init__(name=name, **kwargs)\n",
        "\n",
        "    def call(self, inputs):\n",
        "        return tf.reduce_sum(inputs, axis=-1, keepdims=True)\n",
        "\n",
        "class MultiplyLayer(tf.keras.layers.Layer):\n",
        "    def __init__(self, name=None, **kwargs):\n",
        "        super(MultiplyLayer, self).__init__(name=name, **kwargs)\n",
        "\n",
        "    def call(self, inputs):\n",
        "        return tf.reduce_prod(inputs, axis=-1, keepdims=True)\n",
        "\n",
        "# Define a custom model using the custom layers\n",
        "class CustomModel(tf.keras.Model):\n",
        "    def __init__(self):\n",
        "        super(CustomModel, self).__init__()\n",
        "        self.add_layer = AddLayer()\n",
        "        self.multiply_layer = MultiplyLayer()\n",
        "\n",
        "    def call(self, inputs):\n",
        "        add_result = self.add_layer(inputs)\n",
        "        multiply_result = self.multiply_layer(inputs)\n",
        "        combined_result = tf.concat([add_result, multiply_result], axis=-1)\n",
        "        return combined_result\n",
        "\n",
        "# Create a node with the custom model\n",
        "class GraphNode:\n",
        "    def __init__(self, name, model):\n",
        "        self.name = name\n",
        "        self.model = model\n",
        "\n",
        "    def __str__(self):\n",
        "        return self.name\n",
        "\n",
        "# Create nodes with custom models\n",
        "nodes = {\n",
        "    'A': GraphNode('A', CustomModel()),\n",
        "    'B': GraphNode('B', None),\n",
        "    'C': GraphNode('C', None),\n",
        "    'D': GraphNode('D', None),\n",
        "    'E': GraphNode('E', None)\n",
        "}\n",
        "\n",
        "# Define connections between nodes\n",
        "nodes['A'].model.build(input_shape=(None, 2))  # Build the model\n",
        "nodes['A'].model.summary()  # Display model summary\n",
        "\n",
        "# Perform inference in node A with a random input\n",
        "input_data = tf.constant([[random.randint(1, 100), random.randint(1, 100)]], dtype=tf.float32)\n",
        "output_data = nodes['A'].model(input_data)\n",
        "\n",
        "print(\"Input data:\", input_data.numpy())\n",
        "print(\"Output data:\", output_data.numpy())\n"
      ],
      "metadata": {
        "colab": {
          "base_uri": "https://localhost:8080/"
        },
        "id": "Hy_Q-tOXz4gK",
        "outputId": "4c758bf6-982b-467d-a9fb-81d8b59fffda"
      },
      "execution_count": null,
      "outputs": [
        {
          "output_type": "stream",
          "name": "stdout",
          "text": [
            "Model: \"custom_model\"\n",
            "_________________________________________________________________\n",
            " Layer (type)                Output Shape              Param #   \n",
            "=================================================================\n",
            " add_layer_3 (AddLayer)      multiple                  0         \n",
            "                                                                 \n",
            " multiply_layer_3 (MultiplyL  multiple                 0         \n",
            " ayer)                                                           \n",
            "                                                                 \n",
            "=================================================================\n",
            "Total params: 0\n",
            "Trainable params: 0\n",
            "Non-trainable params: 0\n",
            "_________________________________________________________________\n",
            "Input data: [[59.  9.]]\n",
            "Output data: [[ 68. 531.]]\n"
          ]
        }
      ]
    },
    {
      "cell_type": "code",
      "source": [],
      "metadata": {
        "id": "ryREJXXDyg8a"
      },
      "execution_count": null,
      "outputs": []
    }
  ]
}